{
 "cells": [
  {
   "cell_type": "code",
   "execution_count": 1,
   "id": "bd09de07",
   "metadata": {},
   "outputs": [],
   "source": [
    "import os\n",
    "import cv2\n",
    "from PIL import Image\n",
    "from glob import glob\n",
    "import numpy as np\n",
    "import tensorflow as tf\n",
    "from tensorflow import keras\n",
    "from tensorflow.keras import layers"
   ]
  },
  {
   "cell_type": "code",
   "execution_count": 3,
   "id": "0d345a1a",
   "metadata": {},
   "outputs": [],
   "source": [
    "image_folder = 'Image Folder'\n",
    "model_path = 'Model'\n",
    "frame_path = \"Image Folder\\\\frame0000.jpg\""
   ]
  },
  {
   "cell_type": "code",
   "execution_count": 4,
   "id": "928d2063",
   "metadata": {},
   "outputs": [],
   "source": [
    "def convert_video_to_images(img_folder, filename='assignment3_video.avi'):\n",
    "    \"\"\"\n",
    "    Converts the video file (assignment3_video.avi) to JPEG images.\n",
    "    Once the video has been converted to images, then this function doesn't\n",
    "    need to be run again.\n",
    "    Arguments\n",
    "    ---------\n",
    "    filename : (string) file name (absolute or relative path) of video file.\n",
    "    img_folder : (string) folder where the video frames will be\n",
    "    stored as JPEG images.\n",
    "    \"\"\"\n",
    "\n",
    "    # Make the img_folder if it doesn't exist.'\n",
    "    try:\n",
    "        if not os.path.exists(img_folder):\n",
    "            os.makedirs(img_folder)\n",
    "    except OSError:\n",
    "        print('Error')\n",
    "    # Make sure that the abscense/prescence of path\n",
    "    # separator doesn't throw an error.\n",
    "    img_folder = f'{img_folder.rstrip(os.path.sep)}{os.path.sep}'\n",
    "    # Instantiate the video object.\n",
    "    video = cv2.VideoCapture(filename)\n",
    "    # Check if the video is opened successfully\n",
    "    if not video.isOpened():\n",
    "        print(\"Error opening video file\")\n",
    "    \n",
    "    i = 0\n",
    "    while video.isOpened():\n",
    "        ret, frame = video.read()\n",
    "        if ret:\n",
    "            im_fname = f'{img_folder}frame{i:0>4}.jpg'\n",
    "            print('Captured...', im_fname)\n",
    "            cv2.imwrite(im_fname, frame)\n",
    "            i += 1\n",
    "        else:\n",
    "            break\n",
    "            \n",
    "    video.release()\n",
    "    cv2.destroyAllWindows()\n",
    "    if i!=0:\n",
    "        print(f'Video converted\\n{i} images written to {img_folder}')\n",
    "    "
   ]
  },
  {
   "cell_type": "code",
   "execution_count": 5,
   "id": "6018d5e7",
   "metadata": {},
   "outputs": [],
   "source": [
    "def load_images(img_dir, im_width=60, im_height=44):\n",
    "    \"\"\"\n",
    "    Reads, resizes and normalizes the extracted image frames from a folder.\n",
    "    The images are returned both as a Numpy array of flattened images (i.e. the images with the 3-d shape (im_width, im_height, num_channels) are reshaped into the 1-d shape (im_width x im_height x num_channels)) and a list with the images with their original number of dimensions suitable for display.\n",
    "    Arguments\n",
    "    ---------\n",
    "    img_dir : (string) the directory where the images are stored.\n",
    "    im_width : (int) The desired width of the image.\n",
    "    The default value works well.\n",
    "    im_height : (int) The desired height of the image.\n",
    "    The default value works well.\n",
    "    Returns\n",
    "    X : (numpy.array) An array of the flattened images.\n",
    "    images : (list) A list of the resized images.\n",
    "    \"\"\"\n",
    "    images = []\n",
    "    fnames = glob(f'{img_dir}{os.path.sep}frame*.jpg')\n",
    "    fnames.sort()\n",
    "    for fname in fnames:\n",
    "        im = Image.open(fname)\n",
    "        # resize the image to im_width and im_height.\n",
    "        im_array = np.array(im.resize((im_width, im_height)))\n",
    "        # Convert uint8 to decimal and normalize to 0 - 1.\n",
    "        images.append(im_array.astype(np.float32) / 255.)\n",
    "        # Close the PIL image once converted and stored.\n",
    "        im.close()\n",
    "\n",
    "    # Flatten the images to a single vector\n",
    "    X = np.array(images).reshape(-1, np.prod(images[0].shape))\n",
    "    return X, images"
   ]
  },
  {
   "cell_type": "code",
   "execution_count": 47,
   "id": "9e40f2f2",
   "metadata": {},
   "outputs": [],
   "source": [
    "def predict(frame):\n",
    "    \"\"\"\n",
    "    Argument\n",
    "    --------\n",
    "    frame : Video frame with shape == (44, 60, 3) and dtype == float.\n",
    "    Return\n",
    "    anomaly : A boolean indicating whether the frame is an anomaly or not.\n",
    "    Rough Estimates:\n",
    "        threashold for max sensitivity = 0.0010316\n",
    "        threashold for max specificity = 0.0011981\n",
    "        avg threashold = 0.0011485\n",
    "    ------\n",
    "    \"\"\"\n",
    "    im_array = np.array(frame.resize((60, 44)))\n",
    "    im = im_array.astype(np.float32) / 255.\n",
    "    im = im.reshape((1, -1))\n",
    "    loaded_model = tf.keras.models.load_model(model_path)\n",
    "    loss = loaded_model.evaluate(im, im, verbose = 0)\n",
    "    anomaly = False\n",
    "    if loss>0.0011485:\n",
    "        anomaly = True\n",
    "\n",
    "    # Your fancy computations here!!\n",
    "    return anomaly"
   ]
  },
  {
   "cell_type": "code",
   "execution_count": null,
   "id": "efe968d1",
   "metadata": {},
   "outputs": [],
   "source": [
    "convert_video_to_images(image_folder, filename='assignment3_video.avi')"
   ]
  },
  {
   "cell_type": "code",
   "execution_count": 8,
   "id": "3d5a8d11",
   "metadata": {},
   "outputs": [],
   "source": [
    "flat_img, list_img = load_images(img_dir = image_folder)"
   ]
  },
  {
   "cell_type": "code",
   "execution_count": 9,
   "id": "419003d7",
   "metadata": {},
   "outputs": [],
   "source": [
    "X_train = flat_img[0:699]\n",
    "X_test = flat_img[950:]"
   ]
  },
  {
   "cell_type": "code",
   "execution_count": null,
   "id": "8863f06f",
   "metadata": {},
   "outputs": [],
   "source": [
    "input_img = keras.Input(shape=(len(X_train[0]),))\n",
    "encoded = layers.Dense(128, activation='relu')(input_img)\n",
    "encoded = layers.Dense(64, activation='relu')(encoded)\n",
    "encoded = layers.Dense(32, activation='relu')(encoded)\n",
    "\n",
    "decoded = layers.Dense(64, activation='relu')(encoded)\n",
    "decoded = layers.Dense(128, activation='relu')(decoded)\n",
    "decoded = layers.Dense(len(X_train[0]), activation='sigmoid')(decoded)\n",
    "\n",
    "autoencoder = keras.Model(input_img, decoded)\n",
    "autoencoder.compile(loss='mse', optimizer=tf.keras.optimizers.Adam(learning_rate=1e-4, decay=1e-5, epsilon=1e-6))\n",
    "\n",
    "autoencoder.fit(X_train, X_train,\n",
    "                epochs=50,\n",
    "                batch_size=100,\n",
    "                shuffle=True,\n",
    "                validation_data=(X_test, X_test))"
   ]
  },
  {
   "cell_type": "code",
   "execution_count": 11,
   "id": "01188cd4",
   "metadata": {},
   "outputs": [
    {
     "name": "stdout",
     "output_type": "stream",
     "text": [
      "INFO:tensorflow:Assets written to: Model\\assets\n"
     ]
    }
   ],
   "source": [
    "autoencoder.save(model_path, overwrite=True)"
   ]
  },
  {
   "cell_type": "code",
   "execution_count": 12,
   "id": "0a885a41",
   "metadata": {},
   "outputs": [],
   "source": [
    "loss = []\n",
    "for i in range (flat_img.shape[0]):\n",
    "    test = flat_img[i].reshape((1, -1))\n",
    "    loss.append(autoencoder.evaluate(test, test, verbose = 0))"
   ]
  },
  {
   "cell_type": "code",
   "execution_count": 15,
   "id": "cd6d6435",
   "metadata": {},
   "outputs": [
    {
     "data": {
      "image/png": "[encoded data removed]",
      "text/plain": [
       "<Figure size 640x480 with 1 Axes>"
      ]
     },
     "metadata": {},
     "output_type": "display_data"
    }
   ],
   "source": [
    "import matplotlib.pyplot as plt\n",
    "fig = plt.figure()\n",
    "ax = plt.axes()\n",
    "x = list(range(1050))\n",
    "\n",
    "ax.plot(x, loss)"
   ]
  },
  {
   "cell_type": "code",
   "execution_count": 50,
   "id": "54a02a79",
   "metadata": {},
   "outputs": [
    {
     "data": {
      "text/plain": [
       "True"
      ]
     },
     "execution_count": 50,
     "metadata": {},
     "output_type": "execute_result"
    }
   ],
   "source": [
    "frame_path = \"Image Folder\\\\frame0900.jpg\"\n",
    "frame = Image.open(frame_path)\n",
    "predict(frame)"
   ]
  },
  {
   "cell_type": "code",
   "execution_count": null,
   "id": "7194a991",
   "metadata": {},
   "outputs": [],
   "source": []
  }
 ],
 "metadata": {
  "kernelspec": {
   "display_name": "Python 3 (ipykernel)",
   "language": "python",
   "name": "python3"
  },
  "language_info": {
   "codemirror_mode": {
    "name": "ipython",
    "version": 3
   },
   "file_extension": ".py",
   "mimetype": "text/x-python",
   "name": "python",
   "nbconvert_exporter": "python",
   "pygments_lexer": "ipython3",
   "version": "3.9.17"
  }
 },
 "nbformat": 4,
 "nbformat_minor": 5
}
